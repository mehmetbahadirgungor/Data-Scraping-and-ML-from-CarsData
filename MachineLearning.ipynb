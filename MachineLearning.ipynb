{
 "cells": [
  {
   "cell_type": "code",
   "execution_count": 378,
   "metadata": {},
   "outputs": [],
   "source": [
    "import numpy as np\n",
    "import pandas as pd \n",
    "\n",
    "from sklearn.model_selection import train_test_split, GridSearchCV, cross_val_score\n",
    "from sklearn.metrics import mean_squared_error, r2_score\n",
    "from sklearn.linear_model import LinearRegression, Ridge, Lasso, ElasticNet\n",
    "from sklearn.tree import DecisionTreeRegressor\n",
    "from sklearn.neighbors import KNeighborsRegressor\n",
    "from sklearn.svm import SVR\n",
    "from sklearn.ensemble import BaggingRegressor, RandomForestRegressor, GradientBoostingRegressor\n",
    "\n",
    "from warnings import filterwarnings\n",
    "filterwarnings('ignore')"
   ]
  },
  {
   "cell_type": "markdown",
   "metadata": {},
   "source": [
    "# Data Preprocessing"
   ]
  },
  {
   "cell_type": "code",
   "execution_count": 379,
   "metadata": {},
   "outputs": [
    {
     "data": {
      "text/html": [
       "<div>\n",
       "<style scoped>\n",
       "    .dataframe tbody tr th:only-of-type {\n",
       "        vertical-align: middle;\n",
       "    }\n",
       "\n",
       "    .dataframe tbody tr th {\n",
       "        vertical-align: top;\n",
       "    }\n",
       "\n",
       "    .dataframe thead th {\n",
       "        text-align: right;\n",
       "    }\n",
       "</style>\n",
       "<table border=\"1\" class=\"dataframe\">\n",
       "  <thead>\n",
       "    <tr style=\"text-align: right;\">\n",
       "      <th></th>\n",
       "      <th>Unnamed: 0</th>\n",
       "      <th>Title</th>\n",
       "      <th>Useable Battery</th>\n",
       "      <th>0 - 100</th>\n",
       "      <th>Top Speed</th>\n",
       "      <th>Range</th>\n",
       "      <th>Efficiency</th>\n",
       "      <th>Fastcharge</th>\n",
       "      <th>Price in Germany</th>\n",
       "      <th>Price in Netherlands</th>\n",
       "      <th>Price in UK</th>\n",
       "    </tr>\n",
       "  </thead>\n",
       "  <tbody>\n",
       "    <tr>\n",
       "      <th>0</th>\n",
       "      <td>0</td>\n",
       "      <td>Mini Cooper SE</td>\n",
       "      <td>49 kwh</td>\n",
       "      <td>6.7 sec</td>\n",
       "      <td>170 km/h</td>\n",
       "      <td>310 km</td>\n",
       "      <td>158 Wh/km</td>\n",
       "      <td>440 km/h</td>\n",
       "      <td>€36,900</td>\n",
       "      <td>* €40,000</td>\n",
       "      <td>£34,500</td>\n",
       "    </tr>\n",
       "    <tr>\n",
       "      <th>1</th>\n",
       "      <td>1</td>\n",
       "      <td>Mini Cooper E</td>\n",
       "      <td>37 kwh</td>\n",
       "      <td>7.3 sec</td>\n",
       "      <td>160 km/h</td>\n",
       "      <td>235 km</td>\n",
       "      <td>157 Wh/km</td>\n",
       "      <td>360 km/h</td>\n",
       "      <td>* €33,000</td>\n",
       "      <td>* €35,000</td>\n",
       "      <td>£30,000</td>\n",
       "    </tr>\n",
       "    <tr>\n",
       "      <th>2</th>\n",
       "      <td>2</td>\n",
       "      <td>BMW iX1 eDrive20</td>\n",
       "      <td>64.7 kwh</td>\n",
       "      <td>8.3 sec</td>\n",
       "      <td>170 km/h</td>\n",
       "      <td>385 km</td>\n",
       "      <td>168 Wh/km</td>\n",
       "      <td>550 km/h</td>\n",
       "      <td>€47,900</td>\n",
       "      <td>* €50,000</td>\n",
       "      <td>£44,560</td>\n",
       "    </tr>\n",
       "    <tr>\n",
       "      <th>3</th>\n",
       "      <td>3</td>\n",
       "      <td>Mini Countryman SE ALL4</td>\n",
       "      <td>64.7 kwh</td>\n",
       "      <td>5.6 sec</td>\n",
       "      <td>180 km/h</td>\n",
       "      <td>370 km</td>\n",
       "      <td>175 Wh/km</td>\n",
       "      <td>530 km/h</td>\n",
       "      <td>* €50,000</td>\n",
       "      <td>* €53,000</td>\n",
       "      <td>£47,180</td>\n",
       "    </tr>\n",
       "    <tr>\n",
       "      <th>4</th>\n",
       "      <td>4</td>\n",
       "      <td>Mini Countryman E</td>\n",
       "      <td>64.7 kwh</td>\n",
       "      <td>8.6 sec</td>\n",
       "      <td>170 km/h</td>\n",
       "      <td>380 km</td>\n",
       "      <td>170 Wh/km</td>\n",
       "      <td>550 km/h</td>\n",
       "      <td>* €43,500</td>\n",
       "      <td>* €46,000</td>\n",
       "      <td>£42,080</td>\n",
       "    </tr>\n",
       "    <tr>\n",
       "      <th>...</th>\n",
       "      <td>...</td>\n",
       "      <td>...</td>\n",
       "      <td>...</td>\n",
       "      <td>...</td>\n",
       "      <td>...</td>\n",
       "      <td>...</td>\n",
       "      <td>...</td>\n",
       "      <td>...</td>\n",
       "      <td>...</td>\n",
       "      <td>...</td>\n",
       "      <td>...</td>\n",
       "    </tr>\n",
       "    <tr>\n",
       "      <th>360</th>\n",
       "      <td>360</td>\n",
       "      <td>Tesla Model Y Performance</td>\n",
       "      <td>75 kwh</td>\n",
       "      <td>3.7 sec</td>\n",
       "      <td>250 km/h</td>\n",
       "      <td>415 km</td>\n",
       "      <td>181 Wh/km</td>\n",
       "      <td>640 km/h</td>\n",
       "      <td>€63,667</td>\n",
       "      <td>€60,993</td>\n",
       "      <td>£59,990</td>\n",
       "    </tr>\n",
       "    <tr>\n",
       "      <th>361</th>\n",
       "      <td>361</td>\n",
       "      <td>Audi Q4 e-tron 35</td>\n",
       "      <td>52 kwh</td>\n",
       "      <td>9.0 sec</td>\n",
       "      <td>160 km/h</td>\n",
       "      <td>285 km</td>\n",
       "      <td>182 Wh/km</td>\n",
       "      <td>360 km/h</td>\n",
       "      <td>NaN</td>\n",
       "      <td>€52,105</td>\n",
       "      <td>NaN</td>\n",
       "    </tr>\n",
       "    <tr>\n",
       "      <th>362</th>\n",
       "      <td>362</td>\n",
       "      <td>Renault Zoe ZE50 R110</td>\n",
       "      <td>52 kwh</td>\n",
       "      <td>11.4 sec</td>\n",
       "      <td>135 km/h</td>\n",
       "      <td>315 km</td>\n",
       "      <td>165 Wh/km</td>\n",
       "      <td>230 km/h</td>\n",
       "      <td>€36,840</td>\n",
       "      <td>€34,895</td>\n",
       "      <td>NaN</td>\n",
       "    </tr>\n",
       "    <tr>\n",
       "      <th>363</th>\n",
       "      <td>363</td>\n",
       "      <td>Audi e-tron GT RS</td>\n",
       "      <td>85 kwh</td>\n",
       "      <td>3.3 sec</td>\n",
       "      <td>250 km/h</td>\n",
       "      <td>405 km</td>\n",
       "      <td>210 Wh/km</td>\n",
       "      <td>1000 km/h</td>\n",
       "      <td>€146,050</td>\n",
       "      <td>€154,835</td>\n",
       "      <td>£119,000</td>\n",
       "    </tr>\n",
       "    <tr>\n",
       "      <th>364</th>\n",
       "      <td>364</td>\n",
       "      <td>Lucid Air Dream Edition P</td>\n",
       "      <td>118 kwh</td>\n",
       "      <td>2.7 sec</td>\n",
       "      <td>270 km/h</td>\n",
       "      <td>665 km</td>\n",
       "      <td>177 Wh/km</td>\n",
       "      <td>840 km/h</td>\n",
       "      <td>€218,000</td>\n",
       "      <td>€222,000</td>\n",
       "      <td>NaN</td>\n",
       "    </tr>\n",
       "  </tbody>\n",
       "</table>\n",
       "<p>365 rows × 11 columns</p>\n",
       "</div>"
      ],
      "text/plain": [
       "     Unnamed: 0                      Title Useable Battery   0 - 100  \\\n",
       "0             0             Mini Cooper SE          49 kwh   6.7 sec   \n",
       "1             1              Mini Cooper E          37 kwh   7.3 sec   \n",
       "2             2           BMW iX1 eDrive20        64.7 kwh   8.3 sec   \n",
       "3             3    Mini Countryman SE ALL4        64.7 kwh   5.6 sec   \n",
       "4             4          Mini Countryman E        64.7 kwh   8.6 sec   \n",
       "..          ...                        ...             ...       ...   \n",
       "360         360  Tesla Model Y Performance          75 kwh   3.7 sec   \n",
       "361         361          Audi Q4 e-tron 35          52 kwh   9.0 sec   \n",
       "362         362      Renault Zoe ZE50 R110          52 kwh  11.4 sec   \n",
       "363         363          Audi e-tron GT RS          85 kwh   3.3 sec   \n",
       "364         364  Lucid Air Dream Edition P         118 kwh   2.7 sec   \n",
       "\n",
       "    Top Speed   Range Efficiency Fastcharge Price in Germany  \\\n",
       "0    170 km/h  310 km  158 Wh/km   440 km/h          €36,900   \n",
       "1    160 km/h  235 km  157 Wh/km   360 km/h        * €33,000   \n",
       "2    170 km/h  385 km  168 Wh/km   550 km/h          €47,900   \n",
       "3    180 km/h  370 km  175 Wh/km   530 km/h        * €50,000   \n",
       "4    170 km/h  380 km  170 Wh/km   550 km/h        * €43,500   \n",
       "..        ...     ...        ...        ...              ...   \n",
       "360  250 km/h  415 km  181 Wh/km   640 km/h          €63,667   \n",
       "361  160 km/h  285 km  182 Wh/km   360 km/h              NaN   \n",
       "362  135 km/h  315 km  165 Wh/km   230 km/h          €36,840   \n",
       "363  250 km/h  405 km  210 Wh/km  1000 km/h         €146,050   \n",
       "364  270 km/h  665 km  177 Wh/km   840 km/h         €218,000   \n",
       "\n",
       "    Price in Netherlands Price in UK  \n",
       "0              * €40,000     £34,500  \n",
       "1              * €35,000     £30,000  \n",
       "2              * €50,000     £44,560  \n",
       "3              * €53,000     £47,180  \n",
       "4              * €46,000     £42,080  \n",
       "..                   ...         ...  \n",
       "360              €60,993     £59,990  \n",
       "361              €52,105         NaN  \n",
       "362              €34,895         NaN  \n",
       "363             €154,835    £119,000  \n",
       "364             €222,000         NaN  \n",
       "\n",
       "[365 rows x 11 columns]"
      ]
     },
     "execution_count": 379,
     "metadata": {},
     "output_type": "execute_result"
    }
   ],
   "source": [
    "dataframe = pd.read_csv(\"CarDataFrame.csv\")\n",
    "df = dataframe.copy()\n",
    "df"
   ]
  },
  {
   "cell_type": "code",
   "execution_count": 380,
   "metadata": {},
   "outputs": [
    {
     "name": "stdout",
     "output_type": "stream",
     "text": [
      "<class 'pandas.core.frame.DataFrame'>\n",
      "RangeIndex: 365 entries, 0 to 364\n",
      "Data columns (total 11 columns):\n",
      " #   Column                Non-Null Count  Dtype \n",
      "---  ------                --------------  ----- \n",
      " 0   Unnamed: 0            365 non-null    int64 \n",
      " 1   Title                 365 non-null    object\n",
      " 2   Useable Battery       365 non-null    object\n",
      " 3   0 - 100               365 non-null    object\n",
      " 4   Top Speed             365 non-null    object\n",
      " 5   Range                 365 non-null    object\n",
      " 6   Efficiency            365 non-null    object\n",
      " 7   Fastcharge            365 non-null    object\n",
      " 8   Price in Germany      326 non-null    object\n",
      " 9   Price in Netherlands  312 non-null    object\n",
      " 10  Price in UK           229 non-null    object\n",
      "dtypes: int64(1), object(10)\n",
      "memory usage: 31.5+ KB\n"
     ]
    }
   ],
   "source": [
    "df.info()"
   ]
  },
  {
   "cell_type": "code",
   "execution_count": 381,
   "metadata": {},
   "outputs": [
    {
     "data": {
      "text/html": [
       "<div>\n",
       "<style scoped>\n",
       "    .dataframe tbody tr th:only-of-type {\n",
       "        vertical-align: middle;\n",
       "    }\n",
       "\n",
       "    .dataframe tbody tr th {\n",
       "        vertical-align: top;\n",
       "    }\n",
       "\n",
       "    .dataframe thead th {\n",
       "        text-align: right;\n",
       "    }\n",
       "</style>\n",
       "<table border=\"1\" class=\"dataframe\">\n",
       "  <thead>\n",
       "    <tr style=\"text-align: right;\">\n",
       "      <th></th>\n",
       "      <th>Useable Battery</th>\n",
       "      <th>0 - 100</th>\n",
       "      <th>Top Speed</th>\n",
       "      <th>Range</th>\n",
       "      <th>Efficiency</th>\n",
       "      <th>Fastcharge</th>\n",
       "      <th>Price in Germany</th>\n",
       "    </tr>\n",
       "  </thead>\n",
       "  <tbody>\n",
       "    <tr>\n",
       "      <th>0</th>\n",
       "      <td>49 kwh</td>\n",
       "      <td>6.7 sec</td>\n",
       "      <td>170 km/h</td>\n",
       "      <td>310 km</td>\n",
       "      <td>158 Wh/km</td>\n",
       "      <td>440 km/h</td>\n",
       "      <td>€36,900</td>\n",
       "    </tr>\n",
       "    <tr>\n",
       "      <th>1</th>\n",
       "      <td>37 kwh</td>\n",
       "      <td>7.3 sec</td>\n",
       "      <td>160 km/h</td>\n",
       "      <td>235 km</td>\n",
       "      <td>157 Wh/km</td>\n",
       "      <td>360 km/h</td>\n",
       "      <td>* €33,000</td>\n",
       "    </tr>\n",
       "    <tr>\n",
       "      <th>2</th>\n",
       "      <td>64.7 kwh</td>\n",
       "      <td>8.3 sec</td>\n",
       "      <td>170 km/h</td>\n",
       "      <td>385 km</td>\n",
       "      <td>168 Wh/km</td>\n",
       "      <td>550 km/h</td>\n",
       "      <td>€47,900</td>\n",
       "    </tr>\n",
       "    <tr>\n",
       "      <th>3</th>\n",
       "      <td>64.7 kwh</td>\n",
       "      <td>5.6 sec</td>\n",
       "      <td>180 km/h</td>\n",
       "      <td>370 km</td>\n",
       "      <td>175 Wh/km</td>\n",
       "      <td>530 km/h</td>\n",
       "      <td>* €50,000</td>\n",
       "    </tr>\n",
       "    <tr>\n",
       "      <th>4</th>\n",
       "      <td>64.7 kwh</td>\n",
       "      <td>8.6 sec</td>\n",
       "      <td>170 km/h</td>\n",
       "      <td>380 km</td>\n",
       "      <td>170 Wh/km</td>\n",
       "      <td>550 km/h</td>\n",
       "      <td>* €43,500</td>\n",
       "    </tr>\n",
       "    <tr>\n",
       "      <th>...</th>\n",
       "      <td>...</td>\n",
       "      <td>...</td>\n",
       "      <td>...</td>\n",
       "      <td>...</td>\n",
       "      <td>...</td>\n",
       "      <td>...</td>\n",
       "      <td>...</td>\n",
       "    </tr>\n",
       "    <tr>\n",
       "      <th>356</th>\n",
       "      <td>90 kwh</td>\n",
       "      <td>12.1 sec</td>\n",
       "      <td>160 km/h</td>\n",
       "      <td>310 km</td>\n",
       "      <td>290 Wh/km</td>\n",
       "      <td>310 km/h</td>\n",
       "      <td>€71,626</td>\n",
       "    </tr>\n",
       "    <tr>\n",
       "      <th>357</th>\n",
       "      <td>28.5 kwh</td>\n",
       "      <td>8.3 sec</td>\n",
       "      <td>145 km/h</td>\n",
       "      <td>170 km</td>\n",
       "      <td>168 Wh/km</td>\n",
       "      <td>180 km/h</td>\n",
       "      <td>€39,900</td>\n",
       "    </tr>\n",
       "    <tr>\n",
       "      <th>358</th>\n",
       "      <td>52 kwh</td>\n",
       "      <td>9.5 sec</td>\n",
       "      <td>140 km/h</td>\n",
       "      <td>310 km</td>\n",
       "      <td>168 Wh/km</td>\n",
       "      <td>230 km/h</td>\n",
       "      <td>€37,840</td>\n",
       "    </tr>\n",
       "    <tr>\n",
       "      <th>360</th>\n",
       "      <td>75 kwh</td>\n",
       "      <td>3.7 sec</td>\n",
       "      <td>250 km/h</td>\n",
       "      <td>415 km</td>\n",
       "      <td>181 Wh/km</td>\n",
       "      <td>640 km/h</td>\n",
       "      <td>€63,667</td>\n",
       "    </tr>\n",
       "    <tr>\n",
       "      <th>363</th>\n",
       "      <td>85 kwh</td>\n",
       "      <td>3.3 sec</td>\n",
       "      <td>250 km/h</td>\n",
       "      <td>405 km</td>\n",
       "      <td>210 Wh/km</td>\n",
       "      <td>1000 km/h</td>\n",
       "      <td>€146,050</td>\n",
       "    </tr>\n",
       "  </tbody>\n",
       "</table>\n",
       "<p>197 rows × 7 columns</p>\n",
       "</div>"
      ],
      "text/plain": [
       "    Useable Battery   0 - 100 Top Speed   Range Efficiency Fastcharge  \\\n",
       "0            49 kwh   6.7 sec  170 km/h  310 km  158 Wh/km   440 km/h   \n",
       "1            37 kwh   7.3 sec  160 km/h  235 km  157 Wh/km   360 km/h   \n",
       "2          64.7 kwh   8.3 sec  170 km/h  385 km  168 Wh/km   550 km/h   \n",
       "3          64.7 kwh   5.6 sec  180 km/h  370 km  175 Wh/km   530 km/h   \n",
       "4          64.7 kwh   8.6 sec  170 km/h  380 km  170 Wh/km   550 km/h   \n",
       "..              ...       ...       ...     ...        ...        ...   \n",
       "356          90 kwh  12.1 sec  160 km/h  310 km  290 Wh/km   310 km/h   \n",
       "357        28.5 kwh   8.3 sec  145 km/h  170 km  168 Wh/km   180 km/h   \n",
       "358          52 kwh   9.5 sec  140 km/h  310 km  168 Wh/km   230 km/h   \n",
       "360          75 kwh   3.7 sec  250 km/h  415 km  181 Wh/km   640 km/h   \n",
       "363          85 kwh   3.3 sec  250 km/h  405 km  210 Wh/km  1000 km/h   \n",
       "\n",
       "    Price in Germany  \n",
       "0            €36,900  \n",
       "1          * €33,000  \n",
       "2            €47,900  \n",
       "3          * €50,000  \n",
       "4          * €43,500  \n",
       "..               ...  \n",
       "356          €71,626  \n",
       "357          €39,900  \n",
       "358          €37,840  \n",
       "360          €63,667  \n",
       "363         €146,050  \n",
       "\n",
       "[197 rows x 7 columns]"
      ]
     },
     "execution_count": 381,
     "metadata": {},
     "output_type": "execute_result"
    }
   ],
   "source": [
    "df = df.dropna()\n",
    "df = df.drop([\"Unnamed: 0\", \"Price in UK\", \"Price in Netherlands\", \"Title\"], axis=1)\n",
    "df"
   ]
  },
  {
   "cell_type": "code",
   "execution_count": 382,
   "metadata": {},
   "outputs": [
    {
     "name": "stdout",
     "output_type": "stream",
     "text": [
      "<class 'pandas.core.frame.DataFrame'>\n",
      "Index: 197 entries, 0 to 363\n",
      "Data columns (total 7 columns):\n",
      " #   Column            Non-Null Count  Dtype \n",
      "---  ------            --------------  ----- \n",
      " 0   Useable Battery   197 non-null    object\n",
      " 1   0 - 100           197 non-null    object\n",
      " 2   Top Speed         197 non-null    object\n",
      " 3   Range             197 non-null    object\n",
      " 4   Efficiency        197 non-null    object\n",
      " 5   Fastcharge        197 non-null    object\n",
      " 6   Price in Germany  197 non-null    object\n",
      "dtypes: object(7)\n",
      "memory usage: 12.3+ KB\n"
     ]
    }
   ],
   "source": [
    "df.info()"
   ]
  },
  {
   "cell_type": "code",
   "execution_count": 383,
   "metadata": {},
   "outputs": [
    {
     "data": {
      "text/html": [
       "<div>\n",
       "<style scoped>\n",
       "    .dataframe tbody tr th:only-of-type {\n",
       "        vertical-align: middle;\n",
       "    }\n",
       "\n",
       "    .dataframe tbody tr th {\n",
       "        vertical-align: top;\n",
       "    }\n",
       "\n",
       "    .dataframe thead th {\n",
       "        text-align: right;\n",
       "    }\n",
       "</style>\n",
       "<table border=\"1\" class=\"dataframe\">\n",
       "  <thead>\n",
       "    <tr style=\"text-align: right;\">\n",
       "      <th></th>\n",
       "      <th>Useable Battery</th>\n",
       "      <th>0 - 100</th>\n",
       "      <th>Top Speed</th>\n",
       "      <th>Range</th>\n",
       "      <th>Efficiency</th>\n",
       "      <th>Fastcharge</th>\n",
       "      <th>Price in Germany</th>\n",
       "    </tr>\n",
       "  </thead>\n",
       "  <tbody>\n",
       "    <tr>\n",
       "      <th>0</th>\n",
       "      <td>49.0</td>\n",
       "      <td>6.7</td>\n",
       "      <td>170.0</td>\n",
       "      <td>310.0</td>\n",
       "      <td>158.0</td>\n",
       "      <td>440.0</td>\n",
       "      <td>36900</td>\n",
       "    </tr>\n",
       "    <tr>\n",
       "      <th>1</th>\n",
       "      <td>37.0</td>\n",
       "      <td>7.3</td>\n",
       "      <td>160.0</td>\n",
       "      <td>235.0</td>\n",
       "      <td>157.0</td>\n",
       "      <td>360.0</td>\n",
       "      <td>33000</td>\n",
       "    </tr>\n",
       "    <tr>\n",
       "      <th>2</th>\n",
       "      <td>64.7</td>\n",
       "      <td>8.3</td>\n",
       "      <td>170.0</td>\n",
       "      <td>385.0</td>\n",
       "      <td>168.0</td>\n",
       "      <td>550.0</td>\n",
       "      <td>47900</td>\n",
       "    </tr>\n",
       "    <tr>\n",
       "      <th>3</th>\n",
       "      <td>64.7</td>\n",
       "      <td>5.6</td>\n",
       "      <td>180.0</td>\n",
       "      <td>370.0</td>\n",
       "      <td>175.0</td>\n",
       "      <td>530.0</td>\n",
       "      <td>50000</td>\n",
       "    </tr>\n",
       "    <tr>\n",
       "      <th>4</th>\n",
       "      <td>64.7</td>\n",
       "      <td>8.6</td>\n",
       "      <td>170.0</td>\n",
       "      <td>380.0</td>\n",
       "      <td>170.0</td>\n",
       "      <td>550.0</td>\n",
       "      <td>43500</td>\n",
       "    </tr>\n",
       "    <tr>\n",
       "      <th>...</th>\n",
       "      <td>...</td>\n",
       "      <td>...</td>\n",
       "      <td>...</td>\n",
       "      <td>...</td>\n",
       "      <td>...</td>\n",
       "      <td>...</td>\n",
       "      <td>...</td>\n",
       "    </tr>\n",
       "    <tr>\n",
       "      <th>356</th>\n",
       "      <td>90.0</td>\n",
       "      <td>12.1</td>\n",
       "      <td>160.0</td>\n",
       "      <td>310.0</td>\n",
       "      <td>290.0</td>\n",
       "      <td>310.0</td>\n",
       "      <td>71626</td>\n",
       "    </tr>\n",
       "    <tr>\n",
       "      <th>357</th>\n",
       "      <td>28.5</td>\n",
       "      <td>8.3</td>\n",
       "      <td>145.0</td>\n",
       "      <td>170.0</td>\n",
       "      <td>168.0</td>\n",
       "      <td>180.0</td>\n",
       "      <td>39900</td>\n",
       "    </tr>\n",
       "    <tr>\n",
       "      <th>358</th>\n",
       "      <td>52.0</td>\n",
       "      <td>9.5</td>\n",
       "      <td>140.0</td>\n",
       "      <td>310.0</td>\n",
       "      <td>168.0</td>\n",
       "      <td>230.0</td>\n",
       "      <td>37840</td>\n",
       "    </tr>\n",
       "    <tr>\n",
       "      <th>360</th>\n",
       "      <td>75.0</td>\n",
       "      <td>3.7</td>\n",
       "      <td>250.0</td>\n",
       "      <td>415.0</td>\n",
       "      <td>181.0</td>\n",
       "      <td>640.0</td>\n",
       "      <td>63667</td>\n",
       "    </tr>\n",
       "    <tr>\n",
       "      <th>363</th>\n",
       "      <td>85.0</td>\n",
       "      <td>3.3</td>\n",
       "      <td>250.0</td>\n",
       "      <td>405.0</td>\n",
       "      <td>210.0</td>\n",
       "      <td>1000.0</td>\n",
       "      <td>146050</td>\n",
       "    </tr>\n",
       "  </tbody>\n",
       "</table>\n",
       "<p>197 rows × 7 columns</p>\n",
       "</div>"
      ],
      "text/plain": [
       "     Useable Battery  0 - 100  Top Speed  Range  Efficiency  Fastcharge  \\\n",
       "0               49.0      6.7      170.0  310.0       158.0       440.0   \n",
       "1               37.0      7.3      160.0  235.0       157.0       360.0   \n",
       "2               64.7      8.3      170.0  385.0       168.0       550.0   \n",
       "3               64.7      5.6      180.0  370.0       175.0       530.0   \n",
       "4               64.7      8.6      170.0  380.0       170.0       550.0   \n",
       "..               ...      ...        ...    ...         ...         ...   \n",
       "356             90.0     12.1      160.0  310.0       290.0       310.0   \n",
       "357             28.5      8.3      145.0  170.0       168.0       180.0   \n",
       "358             52.0      9.5      140.0  310.0       168.0       230.0   \n",
       "360             75.0      3.7      250.0  415.0       181.0       640.0   \n",
       "363             85.0      3.3      250.0  405.0       210.0      1000.0   \n",
       "\n",
       "     Price in Germany  \n",
       "0               36900  \n",
       "1               33000  \n",
       "2               47900  \n",
       "3               50000  \n",
       "4               43500  \n",
       "..                ...  \n",
       "356             71626  \n",
       "357             39900  \n",
       "358             37840  \n",
       "360             63667  \n",
       "363            146050  \n",
       "\n",
       "[197 rows x 7 columns]"
      ]
     },
     "execution_count": 383,
     "metadata": {},
     "output_type": "execute_result"
    }
   ],
   "source": [
    "df[\"Useable Battery\"] = df[\"Useable Battery\"].apply(lambda x: float(x[0:-4]))\n",
    "df[\"0 - 100\"] = df[\"0 - 100\"].apply(lambda x: float(x[0:-4]))\n",
    "df[\"Top Speed\"] = df[\"Top Speed\"].apply(lambda x: float(x[0:-5]))\n",
    "df[\"Range\"] = df[\"Range\"].apply(lambda x: float(x[0:-3]))\n",
    "df[\"Efficiency\"] = df[\"Efficiency\"].apply(lambda x: float(x[0:-6]))\n",
    "df[\"Fastcharge\"] = df[\"Fastcharge\"].apply(lambda x: float(x[0:-5]))\n",
    "df[\"Price in Germany\"] = df[\"Price in Germany\"].apply(lambda x: int(x.replace(\"*\", \"\").strip()[1:].replace(\",\", \"\")))\n",
    "\n",
    "df"
   ]
  },
  {
   "cell_type": "markdown",
   "metadata": {},
   "source": [
    "# Machine Learning"
   ]
  },
  {
   "cell_type": "code",
   "execution_count": 384,
   "metadata": {},
   "outputs": [],
   "source": [
    "df = df\n",
    "y_variable = \"Price in Germany\""
   ]
  },
  {
   "cell_type": "code",
   "execution_count": 385,
   "metadata": {},
   "outputs": [],
   "source": [
    "y = df[y_variable]\n",
    "X = df.drop(y_variable, axis=1)\n",
    "test_size = 0.20"
   ]
  },
  {
   "cell_type": "markdown",
   "metadata": {},
   "source": [
    "# Train Test Split"
   ]
  },
  {
   "cell_type": "code",
   "execution_count": 386,
   "metadata": {},
   "outputs": [],
   "source": [
    "X_train, X_test, y_train, y_test = train_test_split(X, y, test_size=test_size, random_state=42)"
   ]
  },
  {
   "cell_type": "markdown",
   "metadata": {},
   "source": [
    "# Linear Regression"
   ]
  },
  {
   "cell_type": "code",
   "execution_count": 387,
   "metadata": {},
   "outputs": [],
   "source": [
    "lr_model = LinearRegression().fit(X_train, y_train)"
   ]
  },
  {
   "cell_type": "code",
   "execution_count": 388,
   "metadata": {},
   "outputs": [
    {
     "name": "stdout",
     "output_type": "stream",
     "text": [
      "Mean Squared Error - Train: 301554733.79504985\n",
      "Mean Squared Error - Test: 2287297202.930994\n",
      "Cross Validation Score: 0.6841856799210113\n",
      "R2 Score: 0.40278021519574236\n"
     ]
    }
   ],
   "source": [
    "print(\"Mean Squared Error - Train:\", mean_squared_error(y_train, lr_model.predict(X_train)))\n",
    "print(\"Mean Squared Error - Test:\", mean_squared_error(y_test, lr_model.predict(X_test)))\n",
    "print(\"Cross Validation Score:\", np.mean(cross_val_score(lr_model, X_train, y_train, cv=10)))\n",
    "print(\"R2 Score:\", r2_score(y_test, lr_model.predict(X_test)))"
   ]
  },
  {
   "cell_type": "markdown",
   "metadata": {},
   "source": [
    "# Ridge"
   ]
  },
  {
   "cell_type": "code",
   "execution_count": 389,
   "metadata": {},
   "outputs": [],
   "source": [
    "ridge_model = Ridge().fit(X_train, y_train)"
   ]
  },
  {
   "cell_type": "code",
   "execution_count": 390,
   "metadata": {},
   "outputs": [
    {
     "name": "stdout",
     "output_type": "stream",
     "text": [
      "Mean Squared Error - Train: 301554784.9810159\n",
      "Mean Squared Error - Test: 2287420016.8729844\n",
      "Cross Validation Score: 0.6842866207859105\n",
      "R2 Score: 0.40274814812727733\n"
     ]
    }
   ],
   "source": [
    "print(\"Mean Squared Error - Train:\", mean_squared_error(y_train, ridge_model.predict(X_train)))\n",
    "print(\"Mean Squared Error - Test:\", mean_squared_error(y_test, ridge_model.predict(X_test)))\n",
    "print(\"Cross Validation Score:\", np.mean(cross_val_score(ridge_model, X_train, y_train, cv=10)))\n",
    "print(\"R2 Score:\", r2_score(y_test, ridge_model.predict(X_test)))"
   ]
  },
  {
   "cell_type": "markdown",
   "metadata": {},
   "source": [
    "# Model Tuning - Ridge"
   ]
  },
  {
   "cell_type": "code",
   "execution_count": 391,
   "metadata": {},
   "outputs": [],
   "source": [
    "ridge_model_params = {\"alpha\":[1,2,3,4,5]}\n",
    "tuned_ridge_model = GridSearchCV(ridge_model, ridge_model_params, cv = 10, n_jobs=-1).fit(X_train,y_train)"
   ]
  },
  {
   "cell_type": "code",
   "execution_count": 392,
   "metadata": {},
   "outputs": [
    {
     "name": "stdout",
     "output_type": "stream",
     "text": [
      "Best Params: {'alpha': 5}\n",
      "Mean Squared Error - Train: 301555955.016799\n",
      "Mean Squared Error - Test: 2287898909.4350343\n",
      "R2 Score: 0.40262310792153344\n"
     ]
    }
   ],
   "source": [
    "print(\"Best Params:\", tuned_ridge_model.best_params_)\n",
    "print(\"Mean Squared Error - Train:\", mean_squared_error(y_train, tuned_ridge_model.predict(X_train)))\n",
    "print(\"Mean Squared Error - Test:\", mean_squared_error(y_test, tuned_ridge_model.predict(X_test)))\n",
    "print(\"R2 Score:\", r2_score(y_test, tuned_ridge_model.predict(X_test)))"
   ]
  },
  {
   "cell_type": "markdown",
   "metadata": {},
   "source": [
    "# Lasso"
   ]
  },
  {
   "cell_type": "code",
   "execution_count": 393,
   "metadata": {},
   "outputs": [],
   "source": [
    "lasso_model = Lasso().fit(X_train, y_train)"
   ]
  },
  {
   "cell_type": "code",
   "execution_count": 394,
   "metadata": {},
   "outputs": [
    {
     "name": "stdout",
     "output_type": "stream",
     "text": [
      "Mean Squared Error - Train: 301554734.88365686\n",
      "Mean Squared Error - Test: 2287315545.000069\n",
      "Cross Validation Score: 0.6841920608323871\n",
      "R2 Score: 0.4027754260295021\n"
     ]
    }
   ],
   "source": [
    "print(\"Mean Squared Error - Train:\", mean_squared_error(y_train, lasso_model.predict(X_train)))\n",
    "print(\"Mean Squared Error - Test:\", mean_squared_error(y_test, lasso_model.predict(X_test)))\n",
    "print(\"Cross Validation Score:\", np.mean(cross_val_score(lasso_model, X_train, y_train, cv=10)))\n",
    "print(\"R2 Score:\", r2_score(y_test, lasso_model.predict(X_test)))"
   ]
  },
  {
   "cell_type": "markdown",
   "metadata": {},
   "source": [
    "# Model Tuning - Lasso"
   ]
  },
  {
   "cell_type": "code",
   "execution_count": 395,
   "metadata": {},
   "outputs": [],
   "source": [
    "lasso_model_params = {\"alpha\":[1,2,3,4,5], \"precompute\":[False,True]}\n",
    "tuned_lasso_model = GridSearchCV(lasso_model, lasso_model_params, cv = 10, n_jobs=-1).fit(X_train,y_train)"
   ]
  },
  {
   "cell_type": "code",
   "execution_count": 396,
   "metadata": {},
   "outputs": [
    {
     "name": "stdout",
     "output_type": "stream",
     "text": [
      "Best Params: {'alpha': 5, 'precompute': True}\n",
      "Mean Squared Error - Train: 301554761.03703296\n",
      "Mean Squared Error - Test: 2287389073.6265154\n",
      "R2 Score: 0.40275622749666296\n"
     ]
    }
   ],
   "source": [
    "print(\"Best Params:\", tuned_lasso_model.best_params_)\n",
    "print(\"Mean Squared Error - Train:\", mean_squared_error(y_train, tuned_lasso_model.predict(X_train)))\n",
    "print(\"Mean Squared Error - Test:\", mean_squared_error(y_test, tuned_lasso_model.predict(X_test)))\n",
    "print(\"R2 Score:\", r2_score(y_test, tuned_lasso_model.predict(X_test)))"
   ]
  },
  {
   "cell_type": "markdown",
   "metadata": {},
   "source": [
    "# ElasticNet"
   ]
  },
  {
   "cell_type": "code",
   "execution_count": 397,
   "metadata": {},
   "outputs": [],
   "source": [
    "elasticnet_model = ElasticNet().fit(X_train, y_train)"
   ]
  },
  {
   "cell_type": "code",
   "execution_count": 398,
   "metadata": {},
   "outputs": [
    {
     "name": "stdout",
     "output_type": "stream",
     "text": [
      "Mean Squared Error - Train: 301703446.6322094\n",
      "Mean Squared Error - Test: 2294241699.0162983\n",
      "Cross Validation Score: 0.6888601387825926\n",
      "R2 Score: 0.40096698757830607\n"
     ]
    }
   ],
   "source": [
    "print(\"Mean Squared Error - Train:\", mean_squared_error(y_train, elasticnet_model.predict(X_train)))\n",
    "print(\"Mean Squared Error - Test:\", mean_squared_error(y_test, elasticnet_model.predict(X_test)))\n",
    "print(\"Cross Validation Score:\", np.mean(cross_val_score(elasticnet_model, X_train, y_train, cv=10)))\n",
    "print(\"R2 Score:\", r2_score(y_test, elasticnet_model.predict(X_test)))"
   ]
  },
  {
   "cell_type": "markdown",
   "metadata": {},
   "source": [
    "# Model Tuning - ElasticNet"
   ]
  },
  {
   "cell_type": "code",
   "execution_count": 399,
   "metadata": {},
   "outputs": [],
   "source": [
    "elasticnet_model_params = {\"alpha\":[1,2,3,4,5], \"precompute\":[False,True]}\n",
    "tuned_elasticnet_model = GridSearchCV(elasticnet_model, elasticnet_model_params, cv = 10, n_jobs=-1).fit(X_train,y_train)"
   ]
  },
  {
   "cell_type": "code",
   "execution_count": 400,
   "metadata": {},
   "outputs": [
    {
     "name": "stdout",
     "output_type": "stream",
     "text": [
      "Best Params: {'alpha': 5, 'precompute': False}\n",
      "Mean Squared Error - Train: 302279932.87436855\n",
      "Mean Squared Error - Test: 2304502548.4620185\n",
      "R2 Score: 0.39828785069568784\n"
     ]
    }
   ],
   "source": [
    "print(\"Best Params:\", tuned_elasticnet_model.best_params_)\n",
    "print(\"Mean Squared Error - Train:\", mean_squared_error(y_train, tuned_elasticnet_model.predict(X_train)))\n",
    "print(\"Mean Squared Error - Test:\", mean_squared_error(y_test, tuned_elasticnet_model.predict(X_test)))\n",
    "print(\"R2 Score:\", r2_score(y_test, tuned_elasticnet_model.predict(X_test)))"
   ]
  },
  {
   "cell_type": "markdown",
   "metadata": {},
   "source": [
    "# KNN"
   ]
  },
  {
   "cell_type": "code",
   "execution_count": 401,
   "metadata": {},
   "outputs": [],
   "source": [
    "knn_model = KNeighborsRegressor().fit(X_train, y_train)"
   ]
  },
  {
   "cell_type": "code",
   "execution_count": 402,
   "metadata": {},
   "outputs": [
    {
     "name": "stdout",
     "output_type": "stream",
     "text": [
      "Mean Squared Error - Train: 322981844.9235669\n",
      "Mean Squared Error - Test: 2437707066.4830008\n",
      "Cross Validation Score: 0.5145462678855944\n",
      "R2 Score: 0.3635077733688299\n"
     ]
    }
   ],
   "source": [
    "print(\"Mean Squared Error - Train:\", mean_squared_error(y_train, knn_model.predict(X_train)))\n",
    "print(\"Mean Squared Error - Test:\", mean_squared_error(y_test, knn_model.predict(X_test)))\n",
    "print(\"Cross Validation Score:\", np.mean(cross_val_score(knn_model, X_train, y_train, cv=10)))\n",
    "print(\"R2 Score:\", r2_score(y_test, knn_model.predict(X_test)))"
   ]
  },
  {
   "cell_type": "markdown",
   "metadata": {},
   "source": [
    "# Model Tuning - KNN"
   ]
  },
  {
   "cell_type": "code",
   "execution_count": 403,
   "metadata": {},
   "outputs": [],
   "source": [
    "knn_params = {'n_neighbors': np.arange(1,30,1)}\n",
    "tuned_knn_model = GridSearchCV(knn_model, knn_params, cv = 10, n_jobs=-1).fit(X_train,y_train)"
   ]
  },
  {
   "cell_type": "code",
   "execution_count": 404,
   "metadata": {},
   "outputs": [
    {
     "name": "stdout",
     "output_type": "stream",
     "text": [
      "Best Params: {'n_neighbors': 2}\n",
      "Mean Squared Error - Train: 110858454.6799363\n",
      "Mean Squared Error - Test: 2689118669.90625\n",
      "R2 Score: 0.297863490893722\n"
     ]
    }
   ],
   "source": [
    "print(\"Best Params:\", tuned_knn_model.best_params_)\n",
    "print(\"Mean Squared Error - Train:\", mean_squared_error(y_train, tuned_knn_model.predict(X_train)))\n",
    "print(\"Mean Squared Error - Test:\", mean_squared_error(y_test, tuned_knn_model.predict(X_test)))\n",
    "print(\"R2 Score:\", r2_score(y_test, tuned_knn_model.predict(X_test)))"
   ]
  },
  {
   "cell_type": "markdown",
   "metadata": {},
   "source": [
    "# SVR"
   ]
  },
  {
   "cell_type": "code",
   "execution_count": 405,
   "metadata": {},
   "outputs": [],
   "source": [
    "svr_model = SVR().fit(X_train, y_train)"
   ]
  },
  {
   "cell_type": "code",
   "execution_count": 406,
   "metadata": {},
   "outputs": [
    {
     "name": "stdout",
     "output_type": "stream",
     "text": [
      "Mean Squared Error - Train: 1645083865.7613447\n",
      "Mean Squared Error - Test: 4647868638.952452\n",
      "Cross Validation Score: -0.16960710260565984\n",
      "R2 Score: -0.21357167962111334\n"
     ]
    }
   ],
   "source": [
    "print(\"Mean Squared Error - Train:\", mean_squared_error(y_train, svr_model.predict(X_train)))\n",
    "print(\"Mean Squared Error - Test:\", mean_squared_error(y_test, svr_model.predict(X_test)))\n",
    "print(\"Cross Validation Score:\", np.mean(cross_val_score(svr_model, X_train, y_train, cv=10)))\n",
    "print(\"R2 Score:\", r2_score(y_test, svr_model.predict(X_test)))"
   ]
  },
  {
   "cell_type": "markdown",
   "metadata": {},
   "source": [
    "# Model Tuning - SVR"
   ]
  },
  {
   "cell_type": "code",
   "execution_count": 407,
   "metadata": {},
   "outputs": [],
   "source": [
    "svr_params = {\"C\": np.arange(0.1,2,0.1), \"kernel\": [\"linear\",\"rbf\"]}\n",
    "tuned_svr_model = GridSearchCV(svr_model, svr_params, cv = 10, n_jobs=-1).fit(X_train,y_train)"
   ]
  },
  {
   "cell_type": "code",
   "execution_count": 408,
   "metadata": {},
   "outputs": [
    {
     "name": "stdout",
     "output_type": "stream",
     "text": [
      "Best Params: {'C': 1.9000000000000001, 'kernel': 'linear'}\n",
      "Mean Squared Error - Train: 345447588.6039668\n",
      "Mean Squared Error - Test: 2494474896.495075\n",
      "R2 Score: 0.34868553200020846\n"
     ]
    }
   ],
   "source": [
    "print(\"Best Params:\", tuned_svr_model.best_params_)\n",
    "print(\"Mean Squared Error - Train:\", mean_squared_error(y_train, tuned_svr_model.predict(X_train)))\n",
    "print(\"Mean Squared Error - Test:\", mean_squared_error(y_test, tuned_svr_model.predict(X_test)))\n",
    "print(\"R2 Score:\", r2_score(y_test, tuned_svr_model.predict(X_test)))"
   ]
  },
  {
   "cell_type": "markdown",
   "metadata": {},
   "source": [
    "# CART"
   ]
  },
  {
   "cell_type": "code",
   "execution_count": 409,
   "metadata": {},
   "outputs": [],
   "source": [
    "cart_model = DecisionTreeRegressor().fit(X_train, y_train)"
   ]
  },
  {
   "cell_type": "code",
   "execution_count": 410,
   "metadata": {},
   "outputs": [
    {
     "name": "stdout",
     "output_type": "stream",
     "text": [
      "Mean Squared Error - Train: 1320840.059447983\n",
      "Mean Squared Error - Test: 2686103405.65\n",
      "Cross Validation Score: 0.6023051215181456\n",
      "R2 Score: 0.2986507849401354\n"
     ]
    }
   ],
   "source": [
    "print(\"Mean Squared Error - Train:\", mean_squared_error(y_train, cart_model.predict(X_train)))\n",
    "print(\"Mean Squared Error - Test:\", mean_squared_error(y_test, cart_model.predict(X_test)))\n",
    "print(\"Cross Validation Score:\", np.mean(cross_val_score(cart_model, X_train, y_train, cv=10)))\n",
    "print(\"R2 Score:\", r2_score(y_test, cart_model.predict(X_test)))"
   ]
  },
  {
   "cell_type": "markdown",
   "metadata": {},
   "source": [
    "# Model Tuning - CART"
   ]
  },
  {
   "cell_type": "code",
   "execution_count": 411,
   "metadata": {},
   "outputs": [],
   "source": [
    "cart_params = {\"max_depth\": np.arange(1,10),\n",
    "\t        \"min_samples_split\": np.arange(1,10),\n",
    "            \"max_leaf_nodes\": np.arange(1,10)}\n",
    "tuned_cart_model = GridSearchCV(cart_model, cart_params, cv = 10, n_jobs=-1).fit(X_train,y_train)"
   ]
  },
  {
   "cell_type": "code",
   "execution_count": 412,
   "metadata": {},
   "outputs": [
    {
     "name": "stdout",
     "output_type": "stream",
     "text": [
      "Best Params: {'max_depth': 7, 'max_leaf_nodes': 9, 'min_samples_split': 2}\n",
      "Mean Squared Error - Train: 113306301.67774312\n",
      "Mean Squared Error - Test: 2499756861.001142\n",
      "R2 Score: 0.347306396091847\n"
     ]
    }
   ],
   "source": [
    "print(\"Best Params:\", tuned_cart_model.best_params_)\n",
    "print(\"Mean Squared Error - Train:\", mean_squared_error(y_train, tuned_cart_model.predict(X_train)))\n",
    "print(\"Mean Squared Error - Test:\", mean_squared_error(y_test, tuned_cart_model.predict(X_test)))\n",
    "print(\"R2 Score:\", r2_score(y_test, tuned_cart_model.predict(X_test)))"
   ]
  },
  {
   "cell_type": "markdown",
   "metadata": {},
   "source": [
    "# Bagging"
   ]
  },
  {
   "cell_type": "code",
   "execution_count": 413,
   "metadata": {},
   "outputs": [],
   "source": [
    "bagging_model = BaggingRegressor().fit(X_train, y_train)"
   ]
  },
  {
   "cell_type": "code",
   "execution_count": 414,
   "metadata": {},
   "outputs": [
    {
     "name": "stdout",
     "output_type": "stream",
     "text": [
      "Mean Squared Error - Train: 56886940.64879919\n",
      "Mean Squared Error - Test: 2496442438.3740625\n",
      "Cross Validation Score: 0.7573051230949108\n",
      "R2 Score: 0.34817180123708047\n"
     ]
    }
   ],
   "source": [
    "print(\"Mean Squared Error - Train:\", mean_squared_error(y_train, bagging_model.predict(X_train)))\n",
    "print(\"Mean Squared Error - Test:\", mean_squared_error(y_test, bagging_model.predict(X_test)))\n",
    "print(\"Cross Validation Score:\", np.mean(cross_val_score(bagging_model, X_train, y_train, cv=10)))\n",
    "print(\"R2 Score:\", r2_score(y_test, bagging_model.predict(X_test)))"
   ]
  },
  {
   "cell_type": "markdown",
   "metadata": {},
   "source": [
    "# Model Tuning - Bagging"
   ]
  },
  {
   "cell_type": "code",
   "execution_count": 415,
   "metadata": {},
   "outputs": [],
   "source": [
    "bagging_params = {\"n_estimators\" : [10,50,100,200]}\n",
    "tuned_bagging_model = GridSearchCV(bagging_model, bagging_params, cv = 10, n_jobs=-1).fit(X_train,y_train)"
   ]
  },
  {
   "cell_type": "code",
   "execution_count": 416,
   "metadata": {},
   "outputs": [
    {
     "name": "stdout",
     "output_type": "stream",
     "text": [
      "Best Params: {'n_estimators': 100}\n",
      "Mean Squared Error - Train: 45219832.89413185\n",
      "Mean Squared Error - Test: 2328188927.17764\n",
      "R2 Score: 0.39210327005561685\n"
     ]
    }
   ],
   "source": [
    "print(\"Best Params:\", tuned_bagging_model.best_params_)\n",
    "print(\"Mean Squared Error - Train:\", mean_squared_error(y_train, tuned_bagging_model.predict(X_train)))\n",
    "print(\"Mean Squared Error - Test:\", mean_squared_error(y_test, tuned_bagging_model.predict(X_test)))\n",
    "print(\"R2 Score:\", r2_score(y_test, tuned_bagging_model.predict(X_test)))"
   ]
  },
  {
   "cell_type": "markdown",
   "metadata": {},
   "source": [
    "# Random Forests"
   ]
  },
  {
   "cell_type": "code",
   "execution_count": 417,
   "metadata": {},
   "outputs": [],
   "source": [
    "rf_model = RandomForestRegressor().fit(X_train, y_train)"
   ]
  },
  {
   "cell_type": "code",
   "execution_count": 418,
   "metadata": {},
   "outputs": [
    {
     "name": "stdout",
     "output_type": "stream",
     "text": [
      "Mean Squared Error - Train: 46727335.30410666\n",
      "Mean Squared Error - Test: 2347998422.37596\n",
      "Cross Validation Score: 0.768035806801212\n",
      "R2 Score: 0.3869309546939482\n"
     ]
    }
   ],
   "source": [
    "print(\"Mean Squared Error - Train:\", mean_squared_error(y_train, rf_model.predict(X_train)))\n",
    "print(\"Mean Squared Error - Test:\", mean_squared_error(y_test, rf_model.predict(X_test)))\n",
    "print(\"Cross Validation Score:\", np.mean(cross_val_score(rf_model, X_train, y_train, cv=10)))\n",
    "print(\"R2 Score:\", r2_score(y_test, rf_model.predict(X_test)))"
   ]
  },
  {
   "cell_type": "markdown",
   "metadata": {},
   "source": [
    "# Model Tuning - Random Forests"
   ]
  },
  {
   "cell_type": "code",
   "execution_count": 419,
   "metadata": {},
   "outputs": [],
   "source": [
    "rf_params = {'max_depth': np.arange(1,10),\n",
    "             'max_features': [1,3,5,10,15],\n",
    "             'n_estimators' : [100, 200, 500, 1000, 2000]}\n",
    "\n",
    "tuned_rf_model = GridSearchCV(rf_model, rf_params, cv = 10, n_jobs=-1).fit(X_train,y_train)"
   ]
  },
  {
   "cell_type": "code",
   "execution_count": 420,
   "metadata": {},
   "outputs": [
    {
     "name": "stdout",
     "output_type": "stream",
     "text": [
      "Best Params: {'max_depth': 9, 'max_features': 1, 'n_estimators': 500}\n",
      "Mean Squared Error - Train: 29614735.33222806\n",
      "Mean Squared Error - Test: 2337812203.0727844\n",
      "R2 Score: 0.389590605434751\n"
     ]
    }
   ],
   "source": [
    "print(\"Best Params:\", tuned_rf_model.best_params_)\n",
    "print(\"Mean Squared Error - Train:\", mean_squared_error(y_train, tuned_rf_model.predict(X_train)))\n",
    "print(\"Mean Squared Error - Test:\", mean_squared_error(y_test, tuned_rf_model.predict(X_test)))\n",
    "print(\"R2 Score:\", r2_score(y_test, tuned_rf_model.predict(X_test)))"
   ]
  },
  {
   "cell_type": "markdown",
   "metadata": {},
   "source": [
    "# GBM"
   ]
  },
  {
   "cell_type": "code",
   "execution_count": 421,
   "metadata": {},
   "outputs": [],
   "source": [
    "gbm_model = GradientBoostingRegressor().fit(X_train, y_train)"
   ]
  },
  {
   "cell_type": "code",
   "execution_count": 422,
   "metadata": {},
   "outputs": [
    {
     "name": "stdout",
     "output_type": "stream",
     "text": [
      "Mean Squared Error - Train: 8012710.862799334\n",
      "Mean Squared Error - Test: 2084561722.14652\n",
      "Cross Validation Score: 0.781801234590376\n",
      "R2 Score: 0.4557150240396215\n"
     ]
    }
   ],
   "source": [
    "print(\"Mean Squared Error - Train:\", mean_squared_error(y_train, gbm_model.predict(X_train)))\n",
    "print(\"Mean Squared Error - Test:\", mean_squared_error(y_test, gbm_model.predict(X_test)))\n",
    "print(\"Cross Validation Score:\", np.mean(cross_val_score(gbm_model, X_train, y_train, cv=10)))\n",
    "print(\"R2 Score:\", r2_score(y_test, gbm_model.predict(X_test)))"
   ]
  },
  {
   "cell_type": "markdown",
   "metadata": {},
   "source": [
    "# Model Tuning - GBM"
   ]
  },
  {
   "cell_type": "code",
   "execution_count": 423,
   "metadata": {},
   "outputs": [],
   "source": [
    "gbm_params = {\n",
    "    \"criterion\": [\"friedman_mse\", \"squared_error\"],\n",
    "    'learning_rate': [0.001, 0.01, 0.1, 0.2],\n",
    "    'max_depth': [1, 3, 5, 8,50,100],\n",
    "    'n_estimators': [100, 200, 500, 1000, 2000],\n",
    "    'subsample': [1,0.5,0.75]}\n",
    "\n",
    "tuned_gbm_model = GridSearchCV(gbm_model, gbm_params, cv = 10, n_jobs=-1).fit(X_train,y_train)"
   ]
  },
  {
   "cell_type": "code",
   "execution_count": 424,
   "metadata": {},
   "outputs": [
    {
     "name": "stdout",
     "output_type": "stream",
     "text": [
      "Best Params: {'criterion': 'squared_error', 'learning_rate': 0.2, 'max_depth': 3, 'n_estimators': 100, 'subsample': 1}\n",
      "Mean Squared Error - Train: 2816201.0592126497\n",
      "Mean Squared Error - Test: 2069558723.4635723\n",
      "R2 Score: 0.45963234953338183\n"
     ]
    }
   ],
   "source": [
    "print(\"Best Params:\", tuned_gbm_model.best_params_)\n",
    "print(\"Mean Squared Error - Train:\", mean_squared_error(y_train, tuned_gbm_model.predict(X_train)))\n",
    "print(\"Mean Squared Error - Test:\", mean_squared_error(y_test, tuned_gbm_model.predict(X_test)))\n",
    "print(\"R2 Score:\", r2_score(y_test, tuned_gbm_model.predict(X_test)))"
   ]
  }
 ],
 "metadata": {
  "kernelspec": {
   "display_name": "Python 3",
   "language": "python",
   "name": "python3"
  },
  "language_info": {
   "codemirror_mode": {
    "name": "ipython",
    "version": 3
   },
   "file_extension": ".py",
   "mimetype": "text/x-python",
   "name": "python",
   "nbconvert_exporter": "python",
   "pygments_lexer": "ipython3",
   "version": "3.11.5"
  },
  "orig_nbformat": 4
 },
 "nbformat": 4,
 "nbformat_minor": 2
}
