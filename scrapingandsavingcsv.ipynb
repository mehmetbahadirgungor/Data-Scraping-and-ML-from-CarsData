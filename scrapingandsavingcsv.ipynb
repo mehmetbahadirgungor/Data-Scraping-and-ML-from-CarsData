{
 "cells": [
  {
   "cell_type": "code",
   "execution_count": 72,
   "metadata": {},
   "outputs": [],
   "source": [
    "import requests\n",
    "import pandas as pd\n",
    "from bs4 import BeautifulSoup"
   ]
  },
  {
   "cell_type": "code",
   "execution_count": 73,
   "metadata": {},
   "outputs": [],
   "source": [
    "link = requests.get(\"https://ev-database.org/compare/newest-upcoming-electric-vehicle#sort:path~type~order=.id~number~desc|range-slider-range:prev~next=0~1200|range-slider-acceleration:prev~next=2~23|range-slider-topspeed:prev~next=110~350|range-slider-battery:prev~next=10~200|range-slider-towweight:prev~next=0~2500|range-slider-fastcharge:prev~next=0~1500|paging:currentPage=0|paging:number=all\")\n",
    "soup = BeautifulSoup(link.content , \"html.parser\")"
   ]
  },
  {
   "cell_type": "code",
   "execution_count": 74,
   "metadata": {},
   "outputs": [],
   "source": [
    "titles = []\n",
    "for title in soup.find_all(\"a\", {\"class\":\"title\"}): titles.append(title.text.strip())"
   ]
  },
  {
   "cell_type": "code",
   "execution_count": 75,
   "metadata": {},
   "outputs": [],
   "source": [
    "useableBatteries = []\n",
    "for useableBattery in soup.find_all(\"span\", {\"class\":\"battery\"}): useableBatteries.append(useableBattery.text.strip() + \" kwh\")"
   ]
  },
  {
   "cell_type": "code",
   "execution_count": 76,
   "metadata": {},
   "outputs": [],
   "source": [
    "speeds0_100 = []\n",
    "for speed0_100 in soup.find_all(\"span\", {\"class\":\"acceleration\"}): speeds0_100.append(speed0_100.text)"
   ]
  },
  {
   "cell_type": "code",
   "execution_count": 77,
   "metadata": {},
   "outputs": [],
   "source": [
    "topSpeeds = []\n",
    "for topSpeed in soup.find_all(\"span\", {\"class\":\"topspeed\"}): topSpeeds.append(topSpeed.text)"
   ]
  },
  {
   "cell_type": "code",
   "execution_count": 78,
   "metadata": {},
   "outputs": [],
   "source": [
    "ranges = []\n",
    "for range in soup.find_all(\"span\", {\"class\":\"erange_real\"}): ranges.append(range.text)"
   ]
  },
  {
   "cell_type": "code",
   "execution_count": 79,
   "metadata": {},
   "outputs": [],
   "source": [
    "efficiencies = []\n",
    "for efficiency in soup.find_all(\"span\", {\"class\":\"efficiency\"}): efficiencies.append(efficiency.text)"
   ]
  },
  {
   "cell_type": "code",
   "execution_count": 80,
   "metadata": {},
   "outputs": [],
   "source": [
    "fastcharges = []\n",
    "for fastcharge in soup.find_all(\"span\", {\"class\":\"fastcharge_speed_print\"}): fastcharges.append(fastcharge.text)"
   ]
  },
  {
   "cell_type": "code",
   "execution_count": 81,
   "metadata": {},
   "outputs": [],
   "source": [
    "pricesInGermany = []\n",
    "for priceInGermany in soup.find_all(\"span\", {\"class\":\"country_de\"}): pricesInGermany.append(priceInGermany.text)"
   ]
  },
  {
   "cell_type": "code",
   "execution_count": 82,
   "metadata": {},
   "outputs": [],
   "source": [
    "pricesInNetherlands = []\n",
    "for priceInNetherlands in soup.find_all(\"span\", {\"class\":\"country_nl\"}): pricesInNetherlands.append(priceInNetherlands.text)"
   ]
  },
  {
   "cell_type": "code",
   "execution_count": 83,
   "metadata": {},
   "outputs": [],
   "source": [
    "pricesInUK = []\n",
    "for priceInUK in soup.find_all(\"span\", {\"class\":\"country_uk\"}): pricesInUK.append(priceInUK.text)"
   ]
  },
  {
   "cell_type": "code",
   "execution_count": 84,
   "metadata": {},
   "outputs": [],
   "source": [
    "data = {\"Title\":titles, \"Useable Battery\":useableBatteries, \"0 - 100\":speeds0_100, \"Top Speed\":topSpeeds, \"Range\":ranges, \"Efficiency\":efficiencies, \"Fastcharge\":fastcharges, \"Price in Germany\":pricesInGermany, \"Price in Netherlands\":pricesInNetherlands, \"Price in UK\":pricesInUK}\n",
    "\n",
    "dataframe = pd.DataFrame(data=data)\n",
    "dataframe.to_csv(\"CarDataFrame.csv\")"
   ]
  },
  {
   "cell_type": "code",
   "execution_count": 85,
   "metadata": {},
   "outputs": [
    {
     "data": {
      "text/html": [
       "<div>\n",
       "<style scoped>\n",
       "    .dataframe tbody tr th:only-of-type {\n",
       "        vertical-align: middle;\n",
       "    }\n",
       "\n",
       "    .dataframe tbody tr th {\n",
       "        vertical-align: top;\n",
       "    }\n",
       "\n",
       "    .dataframe thead th {\n",
       "        text-align: right;\n",
       "    }\n",
       "</style>\n",
       "<table border=\"1\" class=\"dataframe\">\n",
       "  <thead>\n",
       "    <tr style=\"text-align: right;\">\n",
       "      <th></th>\n",
       "      <th>Title</th>\n",
       "      <th>Useable Battery</th>\n",
       "      <th>0 - 100</th>\n",
       "      <th>Top Speed</th>\n",
       "      <th>Range</th>\n",
       "      <th>Efficiency</th>\n",
       "      <th>Fastcharge</th>\n",
       "      <th>Price in Germany</th>\n",
       "      <th>Price in Netherlands</th>\n",
       "      <th>Price in UK</th>\n",
       "    </tr>\n",
       "  </thead>\n",
       "  <tbody>\n",
       "    <tr>\n",
       "      <th>0</th>\n",
       "      <td>Mini Cooper SE</td>\n",
       "      <td>49 kwh</td>\n",
       "      <td>6.7 sec</td>\n",
       "      <td>170 km/h</td>\n",
       "      <td>310 km</td>\n",
       "      <td>158 Wh/km</td>\n",
       "      <td>440 km/h</td>\n",
       "      <td>€36,900</td>\n",
       "      <td>* €40,000</td>\n",
       "      <td>£34,500</td>\n",
       "    </tr>\n",
       "    <tr>\n",
       "      <th>1</th>\n",
       "      <td>Mini Cooper E</td>\n",
       "      <td>37 kwh</td>\n",
       "      <td>7.3 sec</td>\n",
       "      <td>160 km/h</td>\n",
       "      <td>235 km</td>\n",
       "      <td>157 Wh/km</td>\n",
       "      <td>360 km/h</td>\n",
       "      <td>* €33,000</td>\n",
       "      <td>* €35,000</td>\n",
       "      <td>£30,000</td>\n",
       "    </tr>\n",
       "    <tr>\n",
       "      <th>2</th>\n",
       "      <td>BMW iX1 eDrive20</td>\n",
       "      <td>64.7 kwh</td>\n",
       "      <td>8.3 sec</td>\n",
       "      <td>170 km/h</td>\n",
       "      <td>385 km</td>\n",
       "      <td>168 Wh/km</td>\n",
       "      <td>550 km/h</td>\n",
       "      <td>€47,900</td>\n",
       "      <td>* €50,000</td>\n",
       "      <td>£44,560</td>\n",
       "    </tr>\n",
       "    <tr>\n",
       "      <th>3</th>\n",
       "      <td>Mini Countryman SE ALL4</td>\n",
       "      <td>64.7 kwh</td>\n",
       "      <td>5.6 sec</td>\n",
       "      <td>180 km/h</td>\n",
       "      <td>370 km</td>\n",
       "      <td>175 Wh/km</td>\n",
       "      <td>530 km/h</td>\n",
       "      <td>* €50,000</td>\n",
       "      <td>* €53,000</td>\n",
       "      <td>£47,180</td>\n",
       "    </tr>\n",
       "    <tr>\n",
       "      <th>4</th>\n",
       "      <td>Mini Countryman E</td>\n",
       "      <td>64.7 kwh</td>\n",
       "      <td>8.6 sec</td>\n",
       "      <td>170 km/h</td>\n",
       "      <td>380 km</td>\n",
       "      <td>170 Wh/km</td>\n",
       "      <td>550 km/h</td>\n",
       "      <td>* €43,500</td>\n",
       "      <td>* €46,000</td>\n",
       "      <td>£42,080</td>\n",
       "    </tr>\n",
       "    <tr>\n",
       "      <th>...</th>\n",
       "      <td>...</td>\n",
       "      <td>...</td>\n",
       "      <td>...</td>\n",
       "      <td>...</td>\n",
       "      <td>...</td>\n",
       "      <td>...</td>\n",
       "      <td>...</td>\n",
       "      <td>...</td>\n",
       "      <td>...</td>\n",
       "      <td>...</td>\n",
       "    </tr>\n",
       "    <tr>\n",
       "      <th>360</th>\n",
       "      <td>Tesla Model Y Performance</td>\n",
       "      <td>75 kwh</td>\n",
       "      <td>3.7 sec</td>\n",
       "      <td>250 km/h</td>\n",
       "      <td>415 km</td>\n",
       "      <td>181 Wh/km</td>\n",
       "      <td>640 km/h</td>\n",
       "      <td>€63,667</td>\n",
       "      <td>€60,993</td>\n",
       "      <td>£59,990</td>\n",
       "    </tr>\n",
       "    <tr>\n",
       "      <th>361</th>\n",
       "      <td>Audi Q4 e-tron 35</td>\n",
       "      <td>52 kwh</td>\n",
       "      <td>9.0 sec</td>\n",
       "      <td>160 km/h</td>\n",
       "      <td>285 km</td>\n",
       "      <td>182 Wh/km</td>\n",
       "      <td>360 km/h</td>\n",
       "      <td>N/A</td>\n",
       "      <td>€52,105</td>\n",
       "      <td>N/A</td>\n",
       "    </tr>\n",
       "    <tr>\n",
       "      <th>362</th>\n",
       "      <td>Renault Zoe ZE50 R110</td>\n",
       "      <td>52 kwh</td>\n",
       "      <td>11.4 sec</td>\n",
       "      <td>135 km/h</td>\n",
       "      <td>315 km</td>\n",
       "      <td>165 Wh/km</td>\n",
       "      <td>230 km/h</td>\n",
       "      <td>€36,840</td>\n",
       "      <td>€34,895</td>\n",
       "      <td>N/A</td>\n",
       "    </tr>\n",
       "    <tr>\n",
       "      <th>363</th>\n",
       "      <td>Audi e-tron GT RS</td>\n",
       "      <td>85 kwh</td>\n",
       "      <td>3.3 sec</td>\n",
       "      <td>250 km/h</td>\n",
       "      <td>405 km</td>\n",
       "      <td>210 Wh/km</td>\n",
       "      <td>1000 km/h</td>\n",
       "      <td>€146,050</td>\n",
       "      <td>€154,835</td>\n",
       "      <td>£119,000</td>\n",
       "    </tr>\n",
       "    <tr>\n",
       "      <th>364</th>\n",
       "      <td>Lucid Air Dream Edition P</td>\n",
       "      <td>118 kwh</td>\n",
       "      <td>2.7 sec</td>\n",
       "      <td>270 km/h</td>\n",
       "      <td>665 km</td>\n",
       "      <td>177 Wh/km</td>\n",
       "      <td>840 km/h</td>\n",
       "      <td>€218,000</td>\n",
       "      <td>€222,000</td>\n",
       "      <td>N/A</td>\n",
       "    </tr>\n",
       "  </tbody>\n",
       "</table>\n",
       "<p>365 rows × 10 columns</p>\n",
       "</div>"
      ],
      "text/plain": [
       "                         Title Useable Battery   0 - 100 Top Speed   Range  \\\n",
       "0               Mini Cooper SE          49 kwh   6.7 sec  170 km/h  310 km   \n",
       "1                Mini Cooper E          37 kwh   7.3 sec  160 km/h  235 km   \n",
       "2             BMW iX1 eDrive20        64.7 kwh   8.3 sec  170 km/h  385 km   \n",
       "3      Mini Countryman SE ALL4        64.7 kwh   5.6 sec  180 km/h  370 km   \n",
       "4            Mini Countryman E        64.7 kwh   8.6 sec  170 km/h  380 km   \n",
       "..                         ...             ...       ...       ...     ...   \n",
       "360  Tesla Model Y Performance          75 kwh   3.7 sec  250 km/h  415 km   \n",
       "361          Audi Q4 e-tron 35          52 kwh   9.0 sec  160 km/h  285 km   \n",
       "362      Renault Zoe ZE50 R110          52 kwh  11.4 sec  135 km/h  315 km   \n",
       "363          Audi e-tron GT RS          85 kwh   3.3 sec  250 km/h  405 km   \n",
       "364  Lucid Air Dream Edition P         118 kwh   2.7 sec  270 km/h  665 km   \n",
       "\n",
       "    Efficiency Fastcharge Price in Germany Price in Netherlands Price in UK  \n",
       "0    158 Wh/km   440 km/h          €36,900            * €40,000     £34,500  \n",
       "1    157 Wh/km   360 km/h        * €33,000            * €35,000     £30,000  \n",
       "2    168 Wh/km   550 km/h          €47,900            * €50,000     £44,560  \n",
       "3    175 Wh/km   530 km/h        * €50,000            * €53,000     £47,180  \n",
       "4    170 Wh/km   550 km/h        * €43,500            * €46,000     £42,080  \n",
       "..         ...        ...              ...                  ...         ...  \n",
       "360  181 Wh/km   640 km/h          €63,667              €60,993     £59,990  \n",
       "361  182 Wh/km   360 km/h              N/A              €52,105         N/A  \n",
       "362  165 Wh/km   230 km/h          €36,840              €34,895         N/A  \n",
       "363  210 Wh/km  1000 km/h         €146,050             €154,835    £119,000  \n",
       "364  177 Wh/km   840 km/h         €218,000             €222,000         N/A  \n",
       "\n",
       "[365 rows x 10 columns]"
      ]
     },
     "execution_count": 85,
     "metadata": {},
     "output_type": "execute_result"
    }
   ],
   "source": [
    "dataframe"
   ]
  }
 ],
 "metadata": {
  "kernelspec": {
   "display_name": "Python 3",
   "language": "python",
   "name": "python3"
  },
  "language_info": {
   "codemirror_mode": {
    "name": "ipython",
    "version": 3
   },
   "file_extension": ".py",
   "mimetype": "text/x-python",
   "name": "python",
   "nbconvert_exporter": "python",
   "pygments_lexer": "ipython3",
   "version": "3.11.5"
  },
  "orig_nbformat": 4
 },
 "nbformat": 4,
 "nbformat_minor": 2
}
